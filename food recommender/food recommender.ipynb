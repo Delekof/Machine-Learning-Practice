{
 "cells": [
  {
   "cell_type": "code",
   "execution_count": 1,
   "id": "928d7b55",
   "metadata": {},
   "outputs": [],
   "source": [
    "import sklearn\n",
    "import pandas as pd\n",
    "import numpy as np\n",
    "import matplotlib.pyplot as plt\n",
    "import seaborn as sns"
   ]
  },
  {
   "cell_type": "code",
   "execution_count": null,
   "id": "5f10d3ee",
   "metadata": {},
   "outputs": [],
   "source": []
  },
  {
   "cell_type": "markdown",
   "id": "5f64acc9",
   "metadata": {},
   "source": [
    "### let's start with a function that gives a score to some combination of nutrients"
   ]
  },
  {
   "cell_type": "code",
   "execution_count": null,
   "id": "3cbedf57",
   "metadata": {},
   "outputs": [],
   "source": [
    "default_targets = {\n",
    "    \"energy (kcal)\": 2000,\n",
    "    \"saturated fat (g)\": 20,\n",
    "    \"protein (g)\": 80,\n",
    "    \"fibre (g)\": 28,\n",
    "    \"sugars (g)\": 50,\n",
    "    \"sodium (mg)\": 2300,\n",
    "    \"potassium (mg)\": 4700,\n",
    "    \"vitamin A (ug)\": 900,\n",
    "    \"vitamin C (mg)\": 90,\n",
    "    \"vitamin D (ug)\": 20,\n",
    "    \"vitamin E (mg)\": 15,\n",
    "    \"vitamin K (ug)\": 120,\n",
    "    \"Calcium (mg)\": 1300,\n",
    "    \"Magnesium (mg)\": 420,\n",
    "    \"Iron (mg)\": 18,\n",
    "}\n",
    "\n",
    "default_target_types = {\n",
    "    \"energy (kcal)\": \"match\",\n",
    "    \"saturated fat (g)\": \"minimise\",\n",
    "    \"protein (g)\": \"maximise\",\n",
    "    \"fibre (g)\": \"maximise\",\n",
    "    \"sugars (g)\": \"minimise\",\n",
    "    \"sodium (mg)\": \"minimise\",\n",
    "    \"potassium (mg)\": \"match\",\n",
    "    \"vitamin A (ug)\": \"match\",\n",
    "    \"vitamin C (mg)\": \"maximise\",\n",
    "    \"vitamin D (ug)\": \"maximise\",\n",
    "    \"vitamin E (mg)\": \"match\",\n",
    "    \"vitamin K (ug)\": \"maximise\",\n",
    "    \"Calcium (mg)\": \"match\",\n",
    "    \"Magnesium (mg)\": \"maximise\",\n",
    "    \"Iron (mg)\": \"match\",\n",
    "}\n",
    "\n",
    "default_target_weights = {\n",
    "    \"energy (kcal)\": 1\n",
    "    \"saturated fat (g)\": 1\n",
    "    \"protein (g)\": 1\n",
    "    \"fibre (g)\": 1\n",
    "    \"sugars (g)\": 1\n",
    "    \"sodium (mg)\": 1\n",
    "    \"potassium (mg)\": 1\n",
    "    \"vitamin A (ug)\": 1\n",
    "    \"vitamin C (mg)\": 1\n",
    "    \"vitamin D (ug)\": 1\n",
    "    \"vitamin E (mg)\": 1\n",
    "    \"vitamin K (ug)\": 1\n",
    "    \"Calcium (mg)\": 1\n",
    "    \"Magnesium (mg)\": 1\n",
    "    \"Iron (mg)\": 1,\n",
    "}"
   ]
  },
  {
   "cell_type": "code",
   "execution_count": null,
   "id": "561b0e71",
   "metadata": {},
   "outputs": [],
   "source": [
    "def nutrition_score(data, targets=default_targets, target_types=default_target_types):\n",
    "    score = 0\n",
    "    for nutrient in targets:\n",
    "        if nutrient not in data:\n",
    "            print(f\"missing {nutrient} from the input data! ignoring {nutrient}\")\n",
    "        else:\n",
    "            if target_types[nutrient] == \"match\":\n",
    "                score += ((data[nutrient]/targets[nurtrient])-1)**2\n",
    "            elif target_types[nutrient] == \"maximise\":\n",
    "                if data[nutrient] < targets[nurtrient]:\n",
    "                    score += ((data[nutrient]/targets[nurtrient])-1)**2\n",
    "            elif target_types[nutrient] == \"minimise\":\n",
    "                if data[nutrient] > targets[nurtrient]:\n",
    "                score += ((data[nutrient]/targets[nurtrient])-1)**2"
   ]
  }
 ],
 "metadata": {
  "kernelspec": {
   "display_name": "data_science",
   "language": "python",
   "name": "python3"
  },
  "language_info": {
   "codemirror_mode": {
    "name": "ipython",
    "version": 3
   },
   "file_extension": ".py",
   "mimetype": "text/x-python",
   "name": "python",
   "nbconvert_exporter": "python",
   "pygments_lexer": "ipython3",
   "version": "3.12.11"
  }
 },
 "nbformat": 4,
 "nbformat_minor": 5
}
